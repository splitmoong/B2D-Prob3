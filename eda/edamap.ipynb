{
 "cells": [
  {
   "cell_type": "code",
   "id": "initial_id",
   "metadata": {
    "collapsed": true,
    "jupyter": {
     "is_executing": true
    },
    "ExecuteTime": {
     "start_time": "2025-03-18T15:13:49.025427Z"
    }
   },
   "source": [
    "import folium\n",
    "import pandas as pd\n",
    "\n",
    "df = pd.read_csv(\"../dataset/dataset.csv\")\n",
    "\n",
    "df = df[(df[\"LAT\"].between(33.5, 34.5)) & (df[\"LON\"].between(-119, -117.5))]\n",
    "crime_map = folium.Map(location=[34.05, -118.25], zoom_start=11)  # Los Angeles center\n",
    "\n",
    "# Add crime markers\n",
    "for _, row in df.iterrows():\n",
    "    folium.CircleMarker(\n",
    "        location=[row[\"LAT\"], row[\"LON\"]],\n",
    "        radius=4,\n",
    "        color=\"red\",\n",
    "        fill=True,\n",
    "        fill_color=\"red\",\n",
    "        fill_opacity=0.6,\n",
    "        popup=f\"Crime Report: {row['Date Rptd']}\"\n",
    "    ).add_to(crime_map)\n",
    "\n",
    "# Save and display\n",
    "crime_map.save(\"la_crime_map.html\")\n",
    "crime_map  "
   ],
   "outputs": [],
   "execution_count": null
  }
 ],
 "metadata": {
  "kernelspec": {
   "display_name": "Python 3",
   "language": "python",
   "name": "python3"
  },
  "language_info": {
   "codemirror_mode": {
    "name": "ipython",
    "version": 2
   },
   "file_extension": ".py",
   "mimetype": "text/x-python",
   "name": "python",
   "nbconvert_exporter": "python",
   "pygments_lexer": "ipython2",
   "version": "2.7.6"
  }
 },
 "nbformat": 4,
 "nbformat_minor": 5
}
